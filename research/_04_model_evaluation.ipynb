{
 "cells": [
  {
   "cell_type": "code",
   "execution_count": 1,
   "metadata": {},
   "outputs": [],
   "source": [
    "import os"
   ]
  },
  {
   "cell_type": "code",
   "execution_count": 2,
   "metadata": {},
   "outputs": [
    {
     "data": {
      "text/plain": [
       "'d:\\\\Projects\\\\Apple-Disease-Classification-Project'"
      ]
     },
     "execution_count": 2,
     "metadata": {},
     "output_type": "execute_result"
    }
   ],
   "source": [
    "# Change the current working directory to the project root folder\n",
    "# This ensures the code works with relative paths and avoids FileNotFoundError\n",
    "os.chdir(\"../\")\n",
    "%pwd"
   ]
  },
  {
   "cell_type": "code",
   "execution_count": 3,
   "metadata": {},
   "outputs": [],
   "source": [
    "import tensorflow as tf"
   ]
  },
  {
   "cell_type": "code",
   "execution_count": 4,
   "metadata": {},
   "outputs": [],
   "source": [
    "from pathlib import Path\n",
    "from cnnClassifier.constants import *\n",
    "from cnnClassifier.utils.common import read_yaml, create_directories, save_json"
   ]
  },
  {
   "cell_type": "code",
   "execution_count": 5,
   "metadata": {},
   "outputs": [],
   "source": [
    "from dataclasses import dataclass\n",
    "from pathlib import Path\n",
    "\n",
    "@dataclass(frozen=True)\n",
    "class EvaluationConfig:\n",
    "    root_dir: Path\n",
    "    trained_model_json_path: Path\n",
    "    trained_model_weights_path: Path\n",
    "    training_data: Path\n",
    "    all_params: dict\n",
    "    params_image_size: list\n",
    "    params_batch_size: int"
   ]
  },
  {
   "cell_type": "code",
   "execution_count": 6,
   "metadata": {},
   "outputs": [],
   "source": [
    "class ConfigurationManager:\n",
    "    def __init__(\n",
    "        self, \n",
    "        config_filepath = CONFIG_FILE_PATH,\n",
    "        params_filepath = PARAMS_FILE_PATH):\n",
    "        self.config = read_yaml(config_filepath)\n",
    "        self.params = read_yaml(params_filepath)\n",
    "        create_directories([self.config.artifacts_root])\n",
    "\n",
    "    \n",
    "    def get_evaluation_config(self) -> EvaluationConfig:\n",
    "        training = self.config.training\n",
    "        model_preparation = self.config.model_preparation\n",
    "        params = self.params\n",
    "        training_data = os.path.join(self.config.data_ingestion.unzip_dir, \"dataset\")\n",
    "        create_directories([ Path(training.root_dir) ])\n",
    "\n",
    "\n",
    "        eval_config = EvaluationConfig(\n",
    "            root_dir=Path(training.root_dir),            \n",
    "            trained_model_json_path=Path(training.trained_model_path).with_suffix(\".json\"), # = \"artifacts/training/model.json\"\n",
    "            trained_model_weights_path=Path(training.trained_model_path).with_suffix(\".h5\"),\n",
    "            training_data=Path(training_data),\n",
    "            all_params=self.params,         \n",
    "            params_image_size=self.params.IMAGE_SIZE,\n",
    "            params_batch_size=self.params.BATCH_SIZE\n",
    "        )\n",
    "        return eval_config\n",
    "\n",
    "\n"
   ]
  },
  {
   "cell_type": "code",
   "execution_count": 7,
   "metadata": {},
   "outputs": [],
   "source": [
    "import tensorflow as tf\n",
    "from keras.preprocessing.image import ImageDataGenerator\n",
    "from keras.optimizers import RMSprop \n",
    "from pathlib import Path\n",
    "from urllib.parse import urlparse"
   ]
  },
  {
   "cell_type": "code",
   "execution_count": 8,
   "metadata": {},
   "outputs": [],
   "source": [
    "class Evaluation:\n",
    "    def __init__(self, config: EvaluationConfig):\n",
    "        self.config = config\n",
    "\n",
    "    \n",
    "    def test_generator(self):\n",
    "        test_datagen = ImageDataGenerator(\n",
    "            rescale=1./255,\n",
    "            rotation_range=10,\n",
    "            horizontal_flip=True\n",
    "            )\n",
    "\n",
    "        self.test_generator = test_datagen.flow_from_directory(\n",
    "            f'{self.config.training_data}/test',\n",
    "            target_size=self.config.params_image_size[:-1],\n",
    "            batch_size=self.config.params_batch_size,\n",
    "            class_mode=\"sparse\",\n",
    "            shuffle=False,\n",
    "            )\n",
    "        \n",
    "    def load_model(self):\n",
    "        try:\n",
    "            # Load model architecture\n",
    "            with open(self.config.trained_model_json_path, 'r') as json_file:\n",
    "                model_json = json_file.read()\n",
    "            self.model = tf.keras.models.model_from_json(model_json)\n",
    "            \n",
    "            # Load model weights\n",
    "            self.model.load_weights(self.config.trained_model_weights_path)\n",
    "\n",
    "            ''' \n",
    "            When you load the model using tf.keras.models.load_model(path), the training configuration is loaded, \n",
    "            but sometimes it doesn't include the optimizer settings. Thus, you need to recompile it.\n",
    "\n",
    "            Evaluation: Before evaluating the loaded model in model_evaluation.py, \n",
    "            recompiling ensures that the model has the necessary settings for loss and metrics to perform evaluation.\n",
    "            '''\n",
    "\n",
    "            # Compile the model\n",
    "            optimizer = RMSprop(\n",
    "                learning_rate=self.config.all_params.LEARNING_RATE,\n",
    "                rho=self.config.all_params.RHO,\n",
    "                epsilon=self.config.all_params.EPSILON\n",
    "            )\n",
    "            self.model.compile(\n",
    "                optimizer=optimizer, \n",
    "                loss=tf.keras.losses.SparseCategoricalCrossentropy(), \n",
    "                metrics=[\"accuracy\"]\n",
    "            )\n",
    "\n",
    "        except Exception as e:\n",
    "            raise RuntimeError(\"Error loading model architecture or weights\") from e\n",
    "\n",
    "\n",
    "    def save_score(self):\n",
    "        scores = {\"loss\": self.score[0], \"accuracy\": self.score[1]}\n",
    "        save_json(path=Path(\"scores.json\"), data=scores)\n",
    "\n",
    "\n",
    "    def evaluation(self):\n",
    "        self.score = self.model.evaluate(self.test_generator)\n",
    "        self.save_score()"
   ]
  },
  {
   "cell_type": "code",
   "execution_count": null,
   "metadata": {},
   "outputs": [],
   "source": [
    "try:\n",
    "    config = ConfigurationManager()\n",
    "    eval_config = config.get_evaluation_config()\n",
    "    evaluation = Evaluation(eval_config)\n",
    "    evaluation.test_generator()\n",
    "    evaluation.load_model()    \n",
    "    evaluation.evaluation()\n",
    "except Exception as e:\n",
    "   raise e"
   ]
  },
  {
   "cell_type": "code",
   "execution_count": null,
   "metadata": {},
   "outputs": [],
   "source": []
  }
 ],
 "metadata": {
  "kernelspec": {
   "display_name": "Python 3",
   "language": "python",
   "name": "python3"
  },
  "language_info": {
   "codemirror_mode": {
    "name": "ipython",
    "version": 3
   },
   "file_extension": ".py",
   "mimetype": "text/x-python",
   "name": "python",
   "nbconvert_exporter": "python",
   "pygments_lexer": "ipython3",
   "version": "3.10.0"
  }
 },
 "nbformat": 4,
 "nbformat_minor": 2
}
